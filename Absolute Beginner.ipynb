{
  "nbformat": 4,
  "nbformat_minor": 0,
  "metadata": {
    "colab": {
      "provenance": [],
      "toc_visible": true,
      "authorship_tag": "ABX9TyMGC1xEDPFMj8t2OMrk3xnR",
      "include_colab_link": true
    },
    "kernelspec": {
      "name": "python3",
      "display_name": "Python 3"
    },
    "language_info": {
      "name": "python"
    }
  },
  "cells": [
    {
      "cell_type": "markdown",
      "metadata": {
        "id": "view-in-github",
        "colab_type": "text"
      },
      "source": [
        "<a href=\"https://colab.research.google.com/github/Subashganesan00/CODEKATA/blob/main/Absolute%20Beginner.ipynb\" target=\"_parent\"><img src=\"https://colab.research.google.com/assets/colab-badge.svg\" alt=\"Open In Colab\"/></a>"
      ]
    },
    {
      "cell_type": "markdown",
      "source": [
        "👋 Hi, I’m @Subashganesan00\n",
        "🌱 I’m currently learning Advanced Programming and Master Data Science\n",
        "📫 How to reach me subashganesan00@gmail.com , 9095450372"
      ],
      "metadata": {
        "id": "yHHCJvSl20cJ"
      }
    },
    {
      "cell_type": "markdown",
      "metadata": {
        "id": "7oA8XJFXd3Lv"
      },
      "source": [
        "# **CODEKATA**"
      ]
    },
    {
      "cell_type": "markdown",
      "metadata": {
        "id": "3sxajSTbtGYp"
      },
      "source": [
        "## **Absolute Beginner**"
      ]
    },
    {
      "cell_type": "markdown",
      "metadata": {
        "id": "Ej23xvPBtOab"
      },
      "source": [
        "**Q1** You are given with a number \"N\", find its cube.\n",
        "\n",
        "Input Description:\n",
        "A positive integer is provided.\n",
        "\n",
        "Output Description:\n",
        "Find the cube of the number.\n",
        "\n",
        "Sample Input :\n",
        "2\n",
        "\n",
        "Sample Output :\n",
        "8\n",
        "\n"
      ]
    },
    {
      "cell_type": "code",
      "execution_count": null,
      "metadata": {
        "colab": {
          "base_uri": "https://localhost:8080/"
        },
        "id": "_8Y5XzHAtX2w",
        "outputId": "ae367e71-dbd1-4507-d964-bb1ad4bef59e"
      },
      "outputs": [
        {
          "name": "stdout",
          "output_type": "stream",
          "text": [
            "2\n",
            "8\n"
          ]
        }
      ],
      "source": [
        "a=int(input())\n",
        "cube=(a*a*a)\n",
        "print(cube)"
      ]
    },
    {
      "cell_type": "markdown",
      "metadata": {
        "id": "77rCE6GOu1Qk"
      },
      "source": [
        "**Q2**.The area of an equilateral triangle is ¼(√3a2) where \"a\" represents a side of the triangle. You are provided with the side \"a\". Find the area of the equilateral triangle.\n",
        "\n",
        "Input Description:\n",
        "The side of an equilateral triangle is provided as the input.\n",
        "\n",
        "Output Description:\n",
        "Find the area of the equilateral triangle and print the answer up to 2 decimal places after rounding off.\n",
        "\n",
        "Sample Input :\n",
        "20\n",
        "\n",
        "Sample Output :\n",
        "173.21\n",
        "\n"
      ]
    },
    {
      "cell_type": "code",
      "execution_count": null,
      "metadata": {
        "colab": {
          "base_uri": "https://localhost:8080/"
        },
        "id": "JMn9jfOIxYdo",
        "outputId": "7f6c8c2a-9614-4a24-cecb-cddc7731586f"
      },
      "outputs": [
        {
          "output_type": "stream",
          "name": "stdout",
          "text": [
            "20\n",
            "173.21\n"
          ]
        }
      ],
      "source": [
        "import math\n",
        "\n",
        "a=int(input())\n",
        "area=float((math.sqrt(3)*a*a)/4)\n",
        "print(round(area,2))"
      ]
    },
    {
      "cell_type": "markdown",
      "source": [
        "**Q3**.You are provided with a number, \"N\". Find its factorial.\n",
        "\n",
        "Input Description:\n",
        "A positive integer is provided as an input.\n",
        "\n",
        "Output Description:\n",
        "Print the factorial of the integer.\n",
        "\n",
        "Sample Input :\n",
        "2\n",
        "Sample Output :\n",
        "2"
      ],
      "metadata": {
        "id": "MOaVZW6XyTav"
      }
    },
    {
      "cell_type": "code",
      "source": [
        "a=int(input())\n",
        "import math\n",
        "b=math.factorial(a)\n",
        "print(b)"
      ],
      "metadata": {
        "colab": {
          "base_uri": "https://localhost:8080/"
        },
        "id": "Vg-MRArkyS16",
        "outputId": "28208c70-bfd9-4224-cdea-08ed74f644e1"
      },
      "execution_count": null,
      "outputs": [
        {
          "output_type": "stream",
          "name": "stdout",
          "text": [
            "2\n",
            "2\n"
          ]
        }
      ]
    },
    {
      "cell_type": "markdown",
      "source": [
        "**Q4.**You are given Two Numbers, A and B. If C = A + B. Find C.\n",
        "\n",
        "Note: Round off the output to a single decimal place.\n",
        "\n",
        "Input Description:\n",
        "You are provided with two numbers A and B.\n",
        "\n",
        "Output Description:\n",
        "Find the sum of the two numbers (A + B)\n",
        "\n",
        "Sample Input :\n",
        "1\n",
        "1\n",
        "Sample Output :\n",
        "2"
      ],
      "metadata": {
        "id": "mmkwXZBwyfe7"
      }
    },
    {
      "cell_type": "code",
      "source": [
        "A=int(input())\n",
        "B=int(input())\n",
        "C=(A+B)\n",
        "\n",
        "print(C)"
      ],
      "metadata": {
        "colab": {
          "base_uri": "https://localhost:8080/"
        },
        "id": "C6CNz_lryle6",
        "outputId": "406efffd-9816-4597-c4b7-3948154d0cb1"
      },
      "execution_count": null,
      "outputs": [
        {
          "output_type": "stream",
          "name": "stdout",
          "text": [
            "1\n",
            "1\n",
            "2\n"
          ]
        }
      ]
    },
    {
      "cell_type": "markdown",
      "source": [
        "**Q5**.You are given a number A in Kilometers. Convert this into B: Meters and C: Centi-Metres.\n",
        "\n",
        "Input Description:\n",
        "A number \"A\" representing some distance in kilometer is provided to you as the input.\n",
        "\n",
        "Output Description:\n",
        "Convert and print this value in meters and centimeters.\n",
        "\n",
        "Sample Input :\n",
        "2\n",
        "Sample Output :\n",
        "2000\n",
        "200000"
      ],
      "metadata": {
        "id": "ykXydgK5yqnc"
      }
    },
    {
      "cell_type": "code",
      "source": [
        "A=int(input())\n",
        "B=(A*1000)\n",
        "C=(A*100000)\n",
        "\n",
        "print(B)\n",
        "print(C)"
      ],
      "metadata": {
        "colab": {
          "base_uri": "https://localhost:8080/"
        },
        "id": "Hke-D9ktyxWS",
        "outputId": "2628e9c3-14af-45a9-c1a8-da554cb577fa"
      },
      "execution_count": null,
      "outputs": [
        {
          "output_type": "stream",
          "name": "stdout",
          "text": [
            "2\n",
            "2000\n",
            "200000\n"
          ]
        }
      ]
    },
    {
      "cell_type": "markdown",
      "source": [
        "**Q6.**You are given three numbers A, B & C. Print the largest amongst these three numbers.\n",
        "\n",
        "Input Description:\n",
        "Three numbers are provided to you.\n",
        "\n",
        "Output Description:\n",
        "Find and print the largest among the three\n",
        "\n",
        "Sample Input :\n",
        "1\n",
        "2\n",
        "3\n",
        "Sample Output :\n",
        "3"
      ],
      "metadata": {
        "id": "DtXdfBrnywXG"
      }
    },
    {
      "cell_type": "code",
      "source": [
        "A=int(input())\n",
        "B=int(input())\n",
        "C=int(input())\n",
        "\n",
        "list=[A,B,C]\n",
        "\n",
        "print(max(list))"
      ],
      "metadata": {
        "colab": {
          "base_uri": "https://localhost:8080/"
        },
        "id": "tLjk71vHzNDI",
        "outputId": "e0a745c0-5904-44b5-be83-ca7e870572f7"
      },
      "execution_count": null,
      "outputs": [
        {
          "output_type": "stream",
          "name": "stdout",
          "text": [
            "1\n",
            "2\n",
            "3\n",
            "3\n"
          ]
        }
      ]
    },
    {
      "cell_type": "markdown",
      "source": [
        "**Q7.**You are provided with two numbers. Find and print the smaller number.\n",
        "\n",
        "Input Description:\n",
        "You are provided with two numbers as input.\n",
        "\n",
        "Output Description:\n",
        "Print the small number out of the two numbers.\n",
        "\n",
        "Sample Input :\n",
        "23 1\n",
        "Sample Output :\n",
        "1"
      ],
      "metadata": {
        "id": "yF3u9myDzI7V"
      }
    },
    {
      "cell_type": "code",
      "source": [
        "A=(input()).split(' ')\n",
        "print(min(A))"
      ],
      "metadata": {
        "id": "GTAdql2qzYDm"
      },
      "execution_count": null,
      "outputs": []
    },
    {
      "cell_type": "markdown",
      "source": [
        "**Q8.**Using the method of looping, write a program to print the table of 9 till N in the format as follows:\n",
        "(N is input by the user)\n",
        "\n",
        "9 18 27...\n",
        "\n",
        "Print NULL if 0 is input\n",
        "\n",
        "Input Description:\n",
        "A positive integer is provided as an input.\n",
        "\n",
        "Output Description:\n",
        "Print the table of nine with single space between the elements till the number that is input.\n",
        "\n",
        "Sample Input :\n",
        "3\n",
        "Sample Output :\n",
        "9 18 27"
      ],
      "metadata": {
        "id": "GsEFU4pmzal8"
      }
    },
    {
      "cell_type": "code",
      "source": [
        "def multiple(m, n):\n",
        "    if (m>0):\n",
        "        a = range(n, (m * n)+1, n)\n",
        "        print(*a)\n",
        "    else:\n",
        "        print(\"NULL\")\n",
        "\n",
        "m = int(input())\n",
        "n = 9\n",
        "multiple(m, n)"
      ],
      "metadata": {
        "id": "3TXq0g_nzaWf"
      },
      "execution_count": null,
      "outputs": []
    },
    {
      "cell_type": "code",
      "source": [
        "# function to print the first m multiple\n",
        "# of a number n without using loop.\n",
        "def multiple(m, n):\n",
        "  \n",
        "    # inserts all elements from n to \n",
        "    # (m * n)+1 incremented by n.\n",
        "    a = range(n, (m * n)+1, n)\n",
        "      \n",
        "    print(*a)\n",
        "  \n",
        "# driver code \n",
        "m = int(input())\n",
        "n = 9\n",
        "multiple(m, n)"
      ],
      "metadata": {
        "id": "qCYH8hKXkKmt"
      },
      "execution_count": null,
      "outputs": []
    },
    {
      "cell_type": "markdown",
      "source": [
        "**Q9.**You are provided with a number \"N\", Find the Nth term of the series: 1, 4, 9, 16, 25, 36, 49, 64, 81, .......\n",
        "\n",
        "(Print \"Error\" if N = negative value and 0 if N = 0).\n",
        "\n",
        "Input Description:\n",
        "An integer N is provided to you as the input.\n",
        "\n",
        "Output Description:\n",
        "Find the Nth term in the provided series.\n",
        "\n",
        "Sample Input :\n",
        "18\n",
        "Sample Output :\n",
        "324"
      ],
      "metadata": {
        "id": "xsZ4p0QRzjYP"
      }
    },
    {
      "cell_type": "code",
      "source": [
        "N = int(input())\n",
        "\n",
        "def series(N):\n",
        "    if (N>0):\n",
        "        print(N**2)\n",
        "    elif (N==0):\n",
        "        print(\"0\")\n",
        "    else:\n",
        "        print(\"ERROR\")\n",
        "    \n",
        "series(N)"
      ],
      "metadata": {
        "id": "AcQZpR5WO7t9"
      },
      "execution_count": null,
      "outputs": []
    },
    {
      "cell_type": "markdown",
      "source": [
        "**Q10.**Print the First 3 multiples of the given number \"N\". (N is a positive integer)\n",
        "\n",
        "Note: print the characters with a single space between them.\n",
        "\n",
        "Input Description:\n",
        "A positive integer is provided to you as an input.\n",
        "\n",
        "Output Description:\n",
        "Print the First 3 multiples of the number with single spaces between them as an output.\n",
        "\n",
        "Sample Input :\n",
        "2\n",
        "Sample Output :\n",
        "2 4 6"
      ],
      "metadata": {
        "id": "PsKkSjDmzre9"
      }
    },
    {
      "cell_type": "code",
      "source": [
        "def multiple(m, n):\n",
        "    if (m>0):\n",
        "        a = range(n, (m * n)+1, n)\n",
        "        print(*a)\n",
        "    else:\n",
        "        print(\"NULL\")\n",
        "\n",
        "m = 3\n",
        "n = int(input())\n",
        "multiple(m, n)"
      ],
      "metadata": {
        "id": "iO5bMQcOz3fO"
      },
      "execution_count": null,
      "outputs": []
    },
    {
      "cell_type": "code",
      "source": [
        "# function to print the first m multiple\n",
        "# of a number n without using loop.\n",
        "def multiple(m, n):\n",
        "  \n",
        "    # inserts all elements from n to \n",
        "    # (m * n)+1 incremented by n.\n",
        "    a = range(n, (m * n)+1, n)\n",
        "      \n",
        "    print(*a)\n",
        "  \n",
        "# driver code \n",
        "m = 3\n",
        "n = int(input())\n",
        "multiple(m, n)"
      ],
      "metadata": {
        "colab": {
          "base_uri": "https://localhost:8080/"
        },
        "id": "yP0CDCwkip-F",
        "outputId": "4fa2bd6d-e7d8-48ce-dd3d-5d8793482395"
      },
      "execution_count": null,
      "outputs": [
        {
          "output_type": "stream",
          "name": "stdout",
          "text": [
            "2\n",
            "2 4 6\n"
          ]
        }
      ]
    },
    {
      "cell_type": "markdown",
      "source": [
        "**Q11**.You are provided with the radius of a circle \"A\". Find the length of its circumference.\n",
        "\n",
        "Note: In case the output is coming in decimal, roundoff to 2nd decimal place. In case the input is a negative number, print \"Error\".\n",
        "\n",
        "Input Description:\n",
        "The Radius of a circle is provided as the input of the program.\n",
        "\n",
        "Output Description:\n",
        "Calculate and print the Circumference of the circle corresponding to the input radius up to two decimal places.\n",
        "\n",
        "Sample Input :\n",
        "2\n",
        "Sample Output :\n",
        "12.57"
      ],
      "metadata": {
        "id": "Fl8g4F81z1xA"
      }
    },
    {
      "cell_type": "code",
      "source": [
        "import math\n",
        "\n",
        "r=float(input())\n",
        "\n",
        "def circumference(radius):\n",
        "    \n",
        "    if (r>=0):\n",
        "        print(round((2*math.pi*r),2)),\n",
        "    else:\n",
        "        print('Error')\n",
        "        \n",
        "circumference(r)"
      ],
      "metadata": {
        "id": "HzeR-p_bz99N"
      },
      "execution_count": null,
      "outputs": []
    },
    {
      "cell_type": "code",
      "source": [
        "import numpy\n",
        "\n",
        "A=float(input())\n",
        "b=float(2*numpy.pi*A)\n",
        "L=round(b,2)\n",
        "\n",
        "if (A>=0):\n",
        "  print(L),\n",
        "else:\n",
        "  print('Error')"
      ],
      "metadata": {
        "colab": {
          "base_uri": "https://localhost:8080/"
        },
        "id": "8bSPvLZhTy1Z",
        "outputId": "f43e8f6d-9f2b-4f8e-e4f2-6da3ca7a186a"
      },
      "execution_count": null,
      "outputs": [
        {
          "output_type": "stream",
          "name": "stdout",
          "text": [
            "2\n",
            "12.57\n"
          ]
        }
      ]
    },
    {
      "cell_type": "markdown",
      "source": [
        "**Q12.**You are provided with a number check whether its odd or even. \n",
        "\n",
        "Print \"Odd\" or \"Even\" for the corresponding cases.\n",
        "\n",
        "Note: In case of a decimal, Round off to nearest integer and then find the output. Incase the input is zero, print \"Zero\".\n",
        "\n",
        "Input Description:\n",
        "A number is provided as the input.\n",
        "\n",
        "Output Description:\n",
        "Find out whether the number is odd or even. Print \"Odd\" or \"Even\" for the corresponding cases. Note: In case of a decimal, Round off to nearest integer and then find the output. In case the input is zero, print \"Zero\".\n",
        "\n",
        "Sample Input :\n",
        "2\n",
        "Sample Output :\n",
        "Even"
      ],
      "metadata": {
        "id": "XmnohJUFz-nO"
      }
    },
    {
      "cell_type": "code",
      "source": [
        "a=round(int(input()))\n",
        "\n",
        "def fun(a):\n",
        "    if (a%2)!=0 :\n",
        "        print('Odd'),\n",
        "    elif (a==0) :\n",
        "        print('Zero'),\n",
        "    else:\n",
        "        print('Even')\n",
        "        \n",
        "fun(a)"
      ],
      "metadata": {
        "colab": {
          "base_uri": "https://localhost:8080/"
        },
        "id": "cmDGwxh30GCc",
        "outputId": "1c8d4c21-c070-4c40-9c18-58f969cd5076"
      },
      "execution_count": null,
      "outputs": [
        {
          "output_type": "stream",
          "name": "stdout",
          "text": [
            "2\n",
            "Even\n"
          ]
        }
      ]
    },
    {
      "cell_type": "markdown",
      "metadata": {
        "id": "IDFmU1wQBQO3"
      },
      "source": [
        "\n",
        "\n",
        "**Q13**.You are given A = Length of a rectangle & B = breadth of a rectangle. Find its area “C”.\n",
        "\n",
        "(A and B are natural numbers)\n",
        "\n",
        "Input Description:\n",
        "The inputs are two natural numbers representing the length and the breadth of a rectangle.\n",
        "\n",
        "Output Description:\n",
        "Find the area of the rectangle formed by the provided input. Round off the answer to the first decimal place if required.\n",
        "\n",
        "Sample Input :\n",
        "2\n",
        "3\n",
        "\n",
        "Sample Output :\n",
        "6\n",
        "\n"
      ]
    },
    {
      "cell_type": "code",
      "execution_count": null,
      "metadata": {
        "colab": {
          "base_uri": "https://localhost:8080/"
        },
        "id": "fUtwZTjJu7Xf",
        "outputId": "c36a27b0-aea2-4a85-ad69-60a3ba38dfaa"
      },
      "outputs": [
        {
          "name": "stdout",
          "output_type": "stream",
          "text": [
            "2\n",
            "3\n",
            "6\n"
          ]
        }
      ],
      "source": [
        "a=int(input())\n",
        "b=int(input())\n",
        "\n",
        "area=(a*b)\n",
        "\n",
        "print(round(area))"
      ]
    },
    {
      "cell_type": "markdown",
      "source": [
        "**Q14.**Write a code to get an integer N and print values from 1 till N in a separate line.\n",
        "\n",
        "Input Description:\n",
        "A single line contains an integer N.\n",
        "\n",
        "Output Description:\n",
        "Print the values from 1 to N in a separate line.\n",
        "\n",
        "Sample Input :\n",
        "5\n",
        "Sample Output :\n",
        "1\n",
        "2\n",
        "3\n",
        "4\n",
        "5"
      ],
      "metadata": {
        "id": "mLYiewRg0c_t"
      }
    },
    {
      "cell_type": "code",
      "source": [
        "a=int(input())\n",
        "i = 1\n",
        "while i <= a:\n",
        "  print(i)\n",
        "  if i == a:\n",
        "    break\n",
        "  i= i+1"
      ],
      "metadata": {
        "id": "IrrbV38m0h9v",
        "colab": {
          "base_uri": "https://localhost:8080/"
        },
        "outputId": "d3d9b2e6-7321-43b5-f64e-fe3b242a13d2"
      },
      "execution_count": null,
      "outputs": [
        {
          "output_type": "stream",
          "name": "stdout",
          "text": [
            "5\n",
            "1\n",
            "2\n",
            "3\n",
            "4\n",
            "5\n"
          ]
        }
      ]
    },
    {
      "cell_type": "markdown",
      "source": [
        "**Q15.**You are given the coefficients of a quadratic equation in order A, B & C.\n",
        "\n",
        "Where A is the coefficient of X2,  B is the coefficient of X and C is the constant term in the most simplified form.\n",
        "\n",
        "Example: For  X2 + 5X + 6 = 0, you are given the input as: 1 5 6.\n",
        "\n",
        "Write a program to find all of the roots of the quadratic.\n",
        "\n",
        "Note: The output should be up to 2nd decimal place (round off if needed) and in case of a recurring decimal use braces i.e. for eg: 0.33333..... => 0.33.\n",
        "\n",
        "Note: Use Shri Dharacharya's Method to solve i.e. X = {-b + √(b² - 4ac) } / 2a & {-b-√(b² -4ac)} / 2a\n",
        "\n",
        "Input Description:\n",
        "Three numbers corresponding to the coefficients of x(squared), x and constant are given as an input in that particular order\n",
        "\n",
        "Output Description:\n",
        "Print the two values of X after rounding off to 2 decimal places if required.\n",
        "\n",
        "Sample Input :\n",
        "1 5 6\n",
        "Sample Output :\n",
        "-2.00\n",
        "-3.00"
      ],
      "metadata": {
        "id": "UbNKoCi60gle"
      }
    },
    {
      "cell_type": "code",
      "source": [
        "import math\n",
        "\n",
        "def fun(a,b,c):\n",
        "    d = math.sqrt((b**2)-(4*a*c))\n",
        "    m = (-b+d)/(2*a)\n",
        "    n = (-b-d)/(2*a)\n",
        "    print(f'{m:.2f}')\n",
        "    print(f'{n:.2f}')\n",
        "    \n",
        "a,b,c = map(int,input().split())   \n",
        "fun(a,b,c)\n"
      ],
      "metadata": {
        "id": "eTkk5Uxy0tWk",
        "colab": {
          "base_uri": "https://localhost:8080/"
        },
        "outputId": "1bcc4449-62a2-4d2e-ad82-816292736ee2"
      },
      "execution_count": null,
      "outputs": [
        {
          "output_type": "stream",
          "name": "stdout",
          "text": [
            "1 5 6\n",
            "-2.00\n",
            "-3.00\n"
          ]
        }
      ]
    },
    {
      "cell_type": "markdown",
      "source": [
        "**Q16.**Write a code to get the input and print it 5 times.\n",
        "\n",
        "Input Description:\n",
        "A single line contains an integer N.\n",
        "\n",
        "Output Description:\n",
        "Output contains 5 lines with each line having the value N.\n",
        "\n",
        "Sample Input :\n",
        "4\n",
        "Sample Output :\n",
        "4\n",
        "4\n",
        "4\n",
        "4\n",
        "4"
      ],
      "metadata": {
        "id": "JbbC9qc00srV"
      }
    },
    {
      "cell_type": "code",
      "source": [
        "a=input()\n",
        "i=0\n",
        "while i<5:\n",
        "  print(a)\n",
        "  i=i+1"
      ],
      "metadata": {
        "colab": {
          "base_uri": "https://localhost:8080/"
        },
        "id": "4BBXJXla00ws",
        "outputId": "86325bf1-9a10-43c2-a4cc-9e8653c22522"
      },
      "execution_count": null,
      "outputs": [
        {
          "output_type": "stream",
          "name": "stdout",
          "text": [
            "4\n",
            "4\n",
            "4\n",
            "4\n",
            "4\n",
            "4\n"
          ]
        }
      ]
    },
    {
      "cell_type": "markdown",
      "source": [
        "**Q17.**Write a code to get 2 integers A and N. Print the integer A, N times in separate line.\n",
        "\n",
        "Input Description:\n",
        "First line contains an integer A. Second line contains an Integer N.\n",
        "\n",
        "Output Description:\n",
        "Print the integer A, N times in a separate line.\n",
        "\n",
        "Sample Input :\n",
        "2 3\n",
        "Sample Output :\n",
        "2\n",
        "2\n",
        "2"
      ],
      "metadata": {
        "id": "MVSVxmd1uzvf"
      }
    },
    {
      "cell_type": "code",
      "source": [
        "A,N=map(int, input().split())\n",
        "i=0\n",
        "while i<N:\n",
        "  print(A)\n",
        "  i=i+1\n",
        "\n"
      ],
      "metadata": {
        "colab": {
          "base_uri": "https://localhost:8080/"
        },
        "id": "KlOmJQ88uzUW",
        "outputId": "84c6bd4c-fe34-4085-bebc-4d74fccb751c"
      },
      "execution_count": null,
      "outputs": [
        {
          "output_type": "stream",
          "name": "stdout",
          "text": [
            "2 3\n",
            "2\n",
            "2\n",
            "2\n"
          ]
        }
      ]
    },
    {
      "cell_type": "markdown",
      "source": [
        "**Q18.**Write a code get an integer number as input and print the sum of the digits.\n",
        "\n",
        "Input Description:\n",
        "A single line containing an integer.\n",
        "\n",
        "Output Description:\n",
        "Print the sum of the digits of the integer.\n",
        "\n",
        "Sample Input :\n",
        "124\n",
        "Sample Output :\n",
        "7"
      ],
      "metadata": {
        "id": "F7pfZvP70QSP"
      }
    },
    {
      "cell_type": "code",
      "source": [
        "n=int(input())\n",
        "sum=0\n",
        "while(n>0):\n",
        "    dig=n%10\n",
        "    sum=sum+dig\n",
        "    n=n//10\n",
        "print(sum)"
      ],
      "metadata": {
        "id": "GoWBF93W_t2h",
        "colab": {
          "base_uri": "https://localhost:8080/"
        },
        "outputId": "c8a4956f-0da5-44ca-d5ae-aaed9b58efc3"
      },
      "execution_count": null,
      "outputs": [
        {
          "output_type": "stream",
          "name": "stdout",
          "text": [
            "124\n",
            "7\n"
          ]
        }
      ]
    },
    {
      "cell_type": "markdown",
      "source": [
        "**Q19.**You are given with Principle amount($), Interest Rate(%) and Time (years) in that order. Find Simple Interest.\n",
        "\n",
        "Print the output up to two decimal places (Round-off if necessary).\n",
        "\n",
        "(S.I. = P*T*R/100)\n",
        "\n",
        "Input Description:\n",
        "Three values are given to you as the input. these values correspond to Principle amount, Interest Rate and Time in that particular order.\n",
        "\n",
        "Output Description:\n",
        "Find the Simple interest and print it up to two decimal places. Round off if required.\n",
        "\n",
        "Sample Input :\n",
        "1000 2 5\n",
        "Sample Output :\n",
        "100.00"
      ],
      "metadata": {
        "id": "cFKsIn98AmUX"
      }
    },
    {
      "cell_type": "code",
      "source": [
        "principle_amnt,Interest_rate,Time=map(float, input().split())\n",
        "#(S.I. = PTR/100)\n",
        "simpleIntrest=(principle_amnt*Interest_rate*Time)/100\n",
        "\n",
        "print(round(simpleIntrest,2))"
      ],
      "metadata": {
        "colab": {
          "base_uri": "https://localhost:8080/"
        },
        "id": "3Qck8L_9AsJY",
        "outputId": "17949017-db00-41ae-ef7c-1afbf0d05381"
      },
      "execution_count": null,
      "outputs": [
        {
          "output_type": "stream",
          "name": "stdout",
          "text": [
            "1000 2 5\n",
            "100.0\n"
          ]
        }
      ]
    },
    {
      "cell_type": "markdown",
      "source": [
        "**Q20.**Let \"A\" be a year, write a program to check whether this year is a leap year or not.\n",
        "\n",
        "Print \"Y\" if its a leap year and \"N\" if its a common year.\n",
        "\n",
        "Input Description:\n",
        "A Year is the input in the form of a positive integer.\n",
        "\n",
        "Output Description:\n",
        "Print \"Y\" if its a leap year and \"N\" if its a common year.\n",
        "\n",
        "Sample Input :\n",
        "2020\n",
        "Sample Output :\n",
        "Y"
      ],
      "metadata": {
        "id": "pXdLT4SoFB4C"
      }
    },
    {
      "cell_type": "code",
      "source": [
        "year = int(input())\n",
        "\n",
        "if (year % 4) == 0:\n",
        "   if (year % 100) == 0:\n",
        "       if (year % 400) == 0:\n",
        "           print(\"Y\")\n",
        "       else:\n",
        "           print(\"N\")\n",
        "   else:\n",
        "       print(\"Y\")\n",
        "else:\n",
        "   print(\"N\")"
      ],
      "metadata": {
        "id": "quvYsiZ-JaoC",
        "colab": {
          "base_uri": "https://localhost:8080/"
        },
        "outputId": "c0524fc1-1cc9-48a3-e5a5-5c5338c6d5d9"
      },
      "execution_count": null,
      "outputs": [
        {
          "output_type": "stream",
          "name": "stdout",
          "text": [
            "2020\n",
            "Y\n"
          ]
        }
      ]
    },
    {
      "cell_type": "markdown",
      "source": [
        "**Q21.**Write a code to get an integer N and print the digits of the integer.\n",
        "\n",
        "Input Description:\n",
        "A single line contains an integer N.\n",
        "\n",
        "Output Description:\n",
        "Print the digits of the integer in a single line separated by space,\n",
        "\n",
        "Sample Input :\n",
        "348\n",
        "Sample Output :\n",
        "3 4 8"
      ],
      "metadata": {
        "id": "AR6_QXN2RJAi"
      }
    },
    {
      "cell_type": "code",
      "source": [
        "N=(input())\n",
        "\n",
        "print(*N)"
      ],
      "metadata": {
        "colab": {
          "base_uri": "https://localhost:8080/"
        },
        "id": "n-3ElC5JRQTm",
        "outputId": "fce4cc86-afaa-4b9c-bc59-8c7d27ea8989"
      },
      "execution_count": null,
      "outputs": [
        {
          "output_type": "stream",
          "name": "stdout",
          "text": [
            "348\n",
            "3 4 8\n"
          ]
        }
      ]
    },
    {
      "cell_type": "markdown",
      "source": [
        "**Q22.**Write a code to get an integer N and print the sum of  values from 1 to N.\n",
        "\n",
        "Input Description:\n",
        "A single line contains an integer N.\n",
        "\n",
        "Output Description:\n",
        "Print the sum of values from 1 to N.\n",
        "\n",
        "Sample Input :\n",
        "10\n",
        "Sample Output :\n",
        "55"
      ],
      "metadata": {
        "id": "SCJflzVARwfP"
      }
    },
    {
      "cell_type": "code",
      "source": [
        "n=int(input())\n",
        "\n",
        "print(int(n*(n+1)/2))\n"
      ],
      "metadata": {
        "colab": {
          "base_uri": "https://localhost:8080/"
        },
        "id": "LcJ3GkMuR9UM",
        "outputId": "a4934f42-9a09-4a2f-bf8d-4d95b444bc77"
      },
      "execution_count": null,
      "outputs": [
        {
          "output_type": "stream",
          "name": "stdout",
          "text": [
            "10\n",
            "55\n"
          ]
        }
      ]
    },
    {
      "cell_type": "markdown",
      "source": [
        "**Q23.**Write a code get an integer number as input and print the odd and even digits of the number separately.\n",
        "\n",
        "Input Description:\n",
        "A single line containing an integer.\n",
        "\n",
        "Output Description:\n",
        "Print the even and odd integers of the integer in a separate line.\n",
        "\n",
        "Sample Input :\n",
        "1234\n",
        "Sample Output :\n",
        "2 4\n",
        "1 3"
      ],
      "metadata": {
        "id": "8rI__m-OT-bP"
      }
    },
    {
      "cell_type": "code",
      "source": [
        "n = input()\n",
        "even = []\n",
        "odd = []\n",
        "for i in n:\n",
        "    if int(i) % 2 == 0:\n",
        "        even.append(i)\n",
        "    else:\n",
        "        odd.append(i)\n",
        "even.sort()\n",
        "odd.sort()\n",
        "print(*even)\n",
        "print(*odd)\n"
      ],
      "metadata": {
        "colab": {
          "base_uri": "https://localhost:8080/"
        },
        "id": "0FoLvjyCUFMT",
        "outputId": "eea481ae-b2d7-4b61-d9f4-8254f426dcb7"
      },
      "execution_count": null,
      "outputs": [
        {
          "output_type": "stream",
          "name": "stdout",
          "text": [
            "1234\n",
            "2 4\n",
            "1 3\n"
          ]
        }
      ]
    },
    {
      "cell_type": "markdown",
      "source": [
        "**Q24.**Let \"A\"  be a string. Remove all the whitespaces and find it's length.\n",
        "\n",
        "Input Description:\n",
        "A string is provide as an input\n",
        "\n",
        "Output Description:\n",
        "Remove all the whitespaces and then print the length of the remaining string.\n",
        "\n",
        "Sample Input :\n",
        "Lorem Ipsum\n",
        "Sample Output :\n",
        "10"
      ],
      "metadata": {
        "id": "DwtZOQyyUFo1"
      }
    },
    {
      "cell_type": "code",
      "source": [
        "a = input()\n",
        "b = a.split()\n",
        "new = ''.join(b)\n",
        "print(len(new))"
      ],
      "metadata": {
        "colab": {
          "base_uri": "https://localhost:8080/"
        },
        "id": "z2bMFB8ZULDG",
        "outputId": "0d38adf8-f368-4055-e70a-6aef0e03350c"
      },
      "execution_count": null,
      "outputs": [
        {
          "output_type": "stream",
          "name": "stdout",
          "text": [
            "lorem ipsum\n",
            "10\n"
          ]
        }
      ]
    },
    {
      "cell_type": "code",
      "source": [
        "a = input()\n",
        "b = a.replace(\" \",\"\")\n",
        "\n",
        "print(len(b))"
      ],
      "metadata": {
        "id": "ID_ncymcfUtB"
      },
      "execution_count": null,
      "outputs": []
    },
    {
      "cell_type": "markdown",
      "source": [
        "**Q25.**You will be provided with a number. Print the number of days in the month corresponding to that number.\n",
        "\n",
        "Note: In case the input is February, print 28 days. If the Input is not in valid range print \"Error\".\n",
        "\n",
        "Input Description:\n",
        "The input is in the form of a number.\n",
        "\n",
        "Output Description:\n",
        "Find the days in the month corresponding to the input number. Print Error if the input is not in a valid range.\n",
        "\n",
        "Sample Input :\n",
        "8\n",
        "Sample Output :\n",
        "31"
      ],
      "metadata": {
        "id": "R-GuBYt1ULcG"
      }
    },
    {
      "cell_type": "code",
      "source": [
        "a = int(input())\n",
        "b = [1,3,5,7,8,10,12]\n",
        "c = [4,6,9,11]\n",
        "d = 2 \n",
        "if a in b:\n",
        "    print(31)\n",
        "elif a in c:\n",
        "    print(30)\n",
        "elif a == 2:\n",
        "    print(28)\n",
        "else:\n",
        "    print('Error')"
      ],
      "metadata": {
        "colab": {
          "base_uri": "https://localhost:8080/"
        },
        "id": "AHph4hwGUQ4N",
        "outputId": "76b9cca6-73de-414b-8548-52fd6113bfbc"
      },
      "execution_count": null,
      "outputs": [
        {
          "output_type": "stream",
          "name": "stdout",
          "text": [
            "8\n",
            "31\n"
          ]
        }
      ]
    },
    {
      "cell_type": "markdown",
      "source": [
        "**Q26.**You are given with a number A i.e. the temperature in Celcius. Write a program to convert this into Fahrenheit. \n",
        "\n",
        "Note: In case of decimal values, round-off to two decimal places.\n",
        "\n",
        "Input Description:\n",
        "A number is provided in Celcius as the input of the program.\n",
        "\n",
        "Output Description:\n",
        "The output shall be the temperature converted into Fahrenheit corresponding to the input value print up to two decimal places and round off if required.\n",
        "\n",
        "Sample Input :\n",
        "12\n",
        "Sample Output :\n",
        "53.60"
      ],
      "metadata": {
        "id": "aP8UZ_4WURYY"
      }
    },
    {
      "cell_type": "code",
      "source": [
        "celsius=float(input())\n",
        "fahrenheit = (celsius * 1.8) + 32\n",
        "\n",
        "#print(round(fahrenheit,2))\n",
        "print('%.2f'%(fahrenheit))"
      ],
      "metadata": {
        "colab": {
          "base_uri": "https://localhost:8080/"
        },
        "id": "wYViBPeFUV9G",
        "outputId": "c3b6e9c3-391b-485b-b532-e0e279d65f59"
      },
      "execution_count": null,
      "outputs": [
        {
          "output_type": "stream",
          "name": "stdout",
          "text": [
            "12\n",
            "53.60\n"
          ]
        }
      ]
    },
    {
      "cell_type": "markdown",
      "source": [
        "**Q27.**Write a code to get an integer N and print the even values from 1 till N in a separate line.\n",
        "\n",
        "Input Description:\n",
        "A single line contains an integer N.\n",
        "\n",
        "Output Description:\n",
        "Print the even values from 1 to N in a separate line.\n",
        "\n",
        "Sample Input :\n",
        "6\n",
        "Sample Output :\n",
        "2\n",
        "4\n",
        "6"
      ],
      "metadata": {
        "id": "19sLwkw8UWT8"
      }
    },
    {
      "cell_type": "code",
      "source": [
        "n=int(input())\n",
        "for i in range(2,n+1): \n",
        "    if i%2==0: \n",
        "       print(i)"
      ],
      "metadata": {
        "colab": {
          "base_uri": "https://localhost:8080/"
        },
        "id": "G4xLTx3SUawG",
        "outputId": "3841b5ab-e64a-4e47-a6bf-dad7910aed8f"
      },
      "execution_count": null,
      "outputs": [
        {
          "output_type": "stream",
          "name": "stdout",
          "text": [
            "6\n",
            "2\n",
            "4\n",
            "6\n"
          ]
        }
      ]
    },
    {
      "cell_type": "markdown",
      "source": [
        "**Q28.**Write a code to get an integer N and print the values from N to 1.\n",
        "\n",
        "Input Description:\n",
        "A single line contains an integer N.\n",
        "\n",
        "Output Description:\n",
        "Print the values from N to 1 in a separate line.\n",
        "\n",
        "Sample Input :\n",
        "10\n",
        "Sample Output :\n",
        "10\n",
        "9\n",
        "8\n",
        "7\n",
        "6\n",
        "5\n",
        "4\n",
        "3\n",
        "2\n",
        "1"
      ],
      "metadata": {
        "id": "aWtmP4dlUbIi"
      }
    },
    {
      "cell_type": "code",
      "source": [
        "N=int(input())\n",
        "\n",
        "for i in range(N,0,-1):\n",
        "  print(i)\n",
        "  "
      ],
      "metadata": {
        "colab": {
          "base_uri": "https://localhost:8080/"
        },
        "id": "NmNhfXpCUfxs",
        "outputId": "ef2d7fc2-35f1-407c-fa66-8a58cd543e1d"
      },
      "execution_count": null,
      "outputs": [
        {
          "output_type": "stream",
          "name": "stdout",
          "text": [
            "10\n",
            "10\n",
            "9\n",
            "8\n",
            "7\n",
            "6\n",
            "5\n",
            "4\n",
            "3\n",
            "2\n",
            "1\n"
          ]
        }
      ]
    },
    {
      "cell_type": "markdown",
      "source": [
        "**Q29.**Write a code to get 2 integers as input and find the HCF of the 2 integer without using recursion or Euclidean algorithm.\n",
        "\n",
        "Input Description:\n",
        "A single line containing 2 integers separated by space.\n",
        "\n",
        "Output Description:\n",
        "Print the HCF of the integers.\n",
        "\n",
        "Sample Input :\n",
        "2 3\n",
        "Sample Output :\n",
        "1"
      ],
      "metadata": {
        "id": "tf1pXN7iUgG2"
      }
    },
    {
      "cell_type": "code",
      "source": [
        "import math\n",
        "x,y = map(int,input().split(\" \"))\n",
        "print(math.gcd(x,y))"
      ],
      "metadata": {
        "colab": {
          "base_uri": "https://localhost:8080/"
        },
        "id": "kZX-teQSUmIz",
        "outputId": "850a5268-b2b4-4807-fa59-17d8e9d91dc2"
      },
      "execution_count": null,
      "outputs": [
        {
          "output_type": "stream",
          "name": "stdout",
          "text": [
            "2 3\n",
            "1\n"
          ]
        }
      ]
    },
    {
      "cell_type": "markdown",
      "source": [
        "**Q30.**Write a program to get a string as input and reverse the string without using temporary variable.\n",
        "\n",
        "Input Description:\n",
        "A single line containing a string.\n",
        "\n",
        "Output Description:\n",
        "Print the reversed string.\n",
        "\n",
        "Sample Input :\n",
        "GUVI\n",
        "Sample Output :\n",
        "IVUG"
      ],
      "metadata": {
        "id": "1dwtZDsBUlss"
      }
    },
    {
      "cell_type": "code",
      "source": [
        "A=\"GUVI\"\n",
        "print(A[::-1])"
      ],
      "metadata": {
        "colab": {
          "base_uri": "https://localhost:8080/"
        },
        "id": "TqadVseeUrTs",
        "outputId": "492eb084-3442-48ee-b1c8-c5b8226c8e1c"
      },
      "execution_count": null,
      "outputs": [
        {
          "output_type": "stream",
          "name": "stdout",
          "text": [
            "IVUG\n"
          ]
        }
      ]
    }
  ]
}