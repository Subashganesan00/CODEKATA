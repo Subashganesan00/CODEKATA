{
  "nbformat": 4,
  "nbformat_minor": 0,
  "metadata": {
    "colab": {
      "provenance": [],
      "authorship_tag": "ABX9TyOAOuivdR9o3HfPwS5dp700",
      "include_colab_link": true
    },
    "kernelspec": {
      "name": "python3",
      "display_name": "Python 3"
    },
    "language_info": {
      "name": "python"
    }
  },
  "cells": [
    {
      "cell_type": "markdown",
      "metadata": {
        "id": "view-in-github",
        "colab_type": "text"
      },
      "source": [
        "<a href=\"https://colab.research.google.com/github/Subashganesan00/CODEKATA/blob/main/Looping.ipynb\" target=\"_parent\"><img src=\"https://colab.research.google.com/assets/colab-badge.svg\" alt=\"Open In Colab\"/></a>"
      ]
    },
    {
      "cell_type": "markdown",
      "source": [
        "👋 Hi, I’m @Subashganesan00\n",
        "🌱 I’m currently learning Advanced Programming and Master Data Science\n",
        "📫 How to reach me subashganesan00@gmail.com , 9095450372"
      ],
      "metadata": {
        "id": "yHHCJvSl20cJ"
      }
    },
    {
      "cell_type": "markdown",
      "metadata": {
        "id": "7oA8XJFXd3Lv"
      },
      "source": [
        "# **CODEKATA**"
      ]
    },
    {
      "cell_type": "markdown",
      "source": [
        "## **Looping**"
      ],
      "metadata": {
        "id": "aUfnIyhsIz12"
      }
    },
    {
      "cell_type": "markdown",
      "source": [
        "**Q1.**Write a code to get a integer n as input and calculate the smallest perfect power of 2 greater than n.\n",
        "\n",
        "Input Description:\n",
        "A single line containing an integer,n.\n",
        "\n",
        "Output Description:\n",
        "Print the smallest perfect power of 2 greater than n.\n",
        "\n",
        "Sample Input :\n",
        "48\n",
        "Sample Output :\n",
        "64"
      ],
      "metadata": {
        "id": "-LanXG5-JNxk"
      }
    },
    {
      "cell_type": "code",
      "source": [
        "s=int(input())\n",
        "n=2\n",
        "d=[]\n",
        "for i in range(20):\n",
        "    n=n*2\n",
        "    d.append(n)\n",
        "for i in d:\n",
        "    if i>s:\n",
        "        print(i)\n",
        "        break"
      ],
      "metadata": {
        "colab": {
          "base_uri": "https://localhost:8080/"
        },
        "id": "hCKEP_9IJkpE",
        "outputId": "55bfeb66-3e86-4f76-8b9c-e73ab4160178"
      },
      "execution_count": null,
      "outputs": [
        {
          "output_type": "stream",
          "name": "stdout",
          "text": [
            "48\n",
            "64\n"
          ]
        }
      ]
    },
    {
      "cell_type": "markdown",
      "source": [
        "**Q2.**Write a code to get 2 integers as input and add the integers without any carry.\n",
        "\n",
        "Input Description:\n",
        "A single line containing 2 integers.\n",
        "\n",
        "Output Description:\n",
        "Print sum of the 2 integers without carry\n",
        "\n",
        "Sample Input :\n",
        "44 66\n",
        "Sample Output :\n",
        "0"
      ],
      "metadata": {
        "id": "iUATtwdPKaDn"
      }
    },
    {
      "cell_type": "code",
      "source": [
        "a, b = list(map(int, input().split()))\n",
        "\n",
        "c = a + b\n",
        "\n",
        "d = str(c)\n",
        "A = str(a)\n",
        "B = str(b)\n",
        "\n",
        "if c < 110 and ( len(d) > len(A) or len(d) > len(B)) :\n",
        "    print(d[-1])\n",
        "    \n",
        "elif c > 110 :\n",
        "    print((c - 100)/2)\n",
        "    \n",
        "else:\n",
        "    print(c)"
      ],
      "metadata": {
        "id": "Ox7Crv3WKdK-"
      },
      "execution_count": null,
      "outputs": []
    },
    {
      "cell_type": "markdown",
      "source": [
        "**Q3.**Write a code to get an integer N and print the sum of  values from 1 to N.\n",
        "\n",
        "Input Description:\n",
        "A single line contains an integer N.\n",
        "\n",
        "Output Description:\n",
        "Print the sum of values from 1 to N.\n",
        "\n",
        "Sample Input :\n",
        "10\n",
        "Sample Output :\n",
        "55"
      ],
      "metadata": {
        "id": "m3ckL8CgOcjr"
      }
    },
    {
      "cell_type": "code",
      "source": [
        "n=int(input())\n",
        "\n",
        "print(int(n*(n+1)/2))\n"
      ],
      "metadata": {
        "id": "HsTPr05vOhbV"
      },
      "execution_count": null,
      "outputs": []
    },
    {
      "cell_type": "markdown",
      "source": [
        "**Q4.**Write a code to get 2 integers as input and find the HCF of the 2 integer without using recursion or Euclidean algorithm.\n",
        "\n",
        "Input Description:\n",
        "A single line containing 2 integers separated by space.\n",
        "\n",
        "Output Description:\n",
        "Print the HCF of the integers.\n",
        "\n",
        "Sample Input :\n",
        "2 3\n",
        "Sample Output :\n",
        "1"
      ],
      "metadata": {
        "id": "G0LpXRtMOkHr"
      }
    },
    {
      "cell_type": "code",
      "source": [
        "import math\n",
        "x,y = map(int,input().split(\" \"))\n",
        "print(math.gcd(x,y))"
      ],
      "metadata": {
        "id": "BXjMVbdCOoLr"
      },
      "execution_count": null,
      "outputs": []
    },
    {
      "cell_type": "markdown",
      "source": [
        "**Q5.**Write a code to get the input and print it 5 times.\n",
        "\n",
        "Input Description:\n",
        "A single line contains an integer N.\n",
        "\n",
        "Output Description:\n",
        "Output contains 5 lines with each line having the value N.\n",
        "\n",
        "Sample Input :\n",
        "4\n",
        "Sample Output :\n",
        "4\n",
        "4\n",
        "4\n",
        "4\n",
        "4"
      ],
      "metadata": {
        "id": "70-7eRrBOqBr"
      }
    },
    {
      "cell_type": "code",
      "source": [
        "a=input()\n",
        "i=0\n",
        "while i<5:\n",
        "  print(a)\n",
        "  i=i+1"
      ],
      "metadata": {
        "id": "1ib1dXC6Ou5E"
      },
      "execution_count": null,
      "outputs": []
    },
    {
      "cell_type": "markdown",
      "source": [
        "**Q6.**Write a code to get 2 integers A and N. Print the integer A, N times in separate line.\n",
        "\n",
        "Input Description:\n",
        "First line contains an integer A. Second line contains an Integer N.\n",
        "\n",
        "Output Description:\n",
        "Print the integer A, N times in a separate line.\n",
        "\n",
        "Sample Input :\n",
        "2 3\n",
        "Sample Output :\n",
        "2\n",
        "2\n",
        "2"
      ],
      "metadata": {
        "id": "rZKfSHBiOxrC"
      }
    },
    {
      "cell_type": "code",
      "source": [
        "A,N=map(int, input().split())\n",
        "i=0\n",
        "while i<N:\n",
        "  print(A)\n",
        "  i=i+1\n"
      ],
      "metadata": {
        "id": "UG7nT_I3O2gM"
      },
      "execution_count": null,
      "outputs": []
    },
    {
      "cell_type": "markdown",
      "source": [
        "**Q7.**Write a code to get an integer N and print the values from N to 1.\n",
        "\n",
        "Input Description:\n",
        "A single line contains an integer N.\n",
        "\n",
        "Output Description:\n",
        "Print the values from N to 1 in a separate line.\n",
        "\n",
        "Sample Input :\n",
        "10\n",
        "Sample Output :\n",
        "10\n",
        "9\n",
        "8\n",
        "7\n",
        "6\n",
        "5\n",
        "4\n",
        "3\n",
        "2\n",
        "1"
      ],
      "metadata": {
        "id": "9RNxNcvTO4aK"
      }
    },
    {
      "cell_type": "code",
      "source": [
        "N=int(input())\n",
        "\n",
        "for i in range(N,0,-1):\n",
        "  print(i)\n",
        "  "
      ],
      "metadata": {
        "id": "HuSKGHdzO9Vb"
      },
      "execution_count": null,
      "outputs": []
    },
    {
      "cell_type": "markdown",
      "source": [
        "**Q8.**Write a code get an integer number as input and print the sum of the digits.\n",
        "\n",
        "Input Description:\n",
        "A single line containing an integer.\n",
        "\n",
        "Output Description:\n",
        "Print the sum of the digits of the integer.\n",
        "\n",
        "Sample Input :\n",
        "124\n",
        "Sample Output :\n",
        "7"
      ],
      "metadata": {
        "id": "MmLaPPMRPEzV"
      }
    },
    {
      "cell_type": "code",
      "source": [
        "n=int(input())\n",
        "sum=0\n",
        "while(n>0):\n",
        "    dig=n%10\n",
        "    sum=sum+dig\n",
        "    n=n//10\n",
        "print(sum)"
      ],
      "metadata": {
        "id": "oLqRK62lPJL-"
      },
      "execution_count": null,
      "outputs": []
    },
    {
      "cell_type": "markdown",
      "source": [
        "**Q9.**Write a code get an integer number as input and print the odd and even digits of the number separately.\n",
        "\n",
        "Input Description:\n",
        "A single line containing an integer.\n",
        "\n",
        "Output Description:\n",
        "Print the even and odd integers of the integer in a separate line.\n",
        "\n",
        "Sample Input :\n",
        "1234\n",
        "Sample Output :\n",
        "2 4\n",
        "1 3"
      ],
      "metadata": {
        "id": "wIaVxFp_PLXG"
      }
    },
    {
      "cell_type": "code",
      "source": [
        "n = input()\n",
        "even = []\n",
        "odd = []\n",
        "\n",
        "def function(n):\n",
        "    for i in n:\n",
        "        if int(i) % 2 == 0:\n",
        "            even.append(i)\n",
        "        else:\n",
        "            odd.append(i)\n",
        "    even.sort()\n",
        "    odd.sort()\n",
        "    print(*even)\n",
        "    print(*odd)\n",
        "    \n",
        "function(n)\n",
        "    "
      ],
      "metadata": {
        "id": "5jf1oPRoPQmz"
      },
      "execution_count": null,
      "outputs": []
    },
    {
      "cell_type": "markdown",
      "source": [
        "**Q10.**Write a program to get a list of integers as input and find the LCM of the values without using GCD\n",
        "\n",
        "Input Description:\n",
        "First line contains an integer N, number of values. Second line contains N space separated values.\n",
        "\n",
        "Output Description:\n",
        "Print the LCM of the values.\n",
        "\n",
        "Sample Input :\n",
        "1 2 3 4 5\n",
        "Sample Output :\n",
        "60"
      ],
      "metadata": {
        "id": "0XhRlJvgPSxT"
      }
    },
    {
      "cell_type": "code",
      "source": [
        "def LCM(arr, n):\n",
        "    max_num = 0;\n",
        "    for i in range(n):\n",
        "        if (max_num < arr[i]):\n",
        "            max_num = arr[i];\n",
        "    res = 1;\n",
        "    \n",
        "    x = 2;\n",
        "    while (x <= max_num):\n",
        "         \n",
        "        indexes = [];\n",
        "        for j in range(n):\n",
        "            if (arr[j] % x == 0):\n",
        "                indexes.append(j);\n",
        "\n",
        "        if (len(indexes) >= 2):\n",
        "  \n",
        "            for j in range(len(indexes)):\n",
        "                arr[indexes[j]] = int(arr[indexes[j]] / x);\n",
        " \n",
        "            res = res * x;\n",
        "        else:\n",
        "            x += 1;\n",
        "\n",
        "    for i in range(n):\n",
        "        res = res * arr[i];\n",
        " \n",
        "    return res;\n",
        "    \n",
        "a=int(input())\n",
        "arr =list(map(int,input().split()))\n",
        "n = len(arr)\n",
        "print(LCM(arr, n))\n",
        "\n"
      ],
      "metadata": {
        "id": "LjOwkOz4PWns"
      },
      "execution_count": null,
      "outputs": []
    },
    {
      "cell_type": "markdown",
      "source": [
        "**Q11.**Write a program to get a string as input and reverse the string without using temporary variable.\n",
        "\n",
        "Input Description:\n",
        "A single line containing a string.\n",
        "\n",
        "Output Description:\n",
        "Print the reversed string.\n",
        "\n",
        "Sample Input :\n",
        "GUVI\n",
        "Sample Output :\n",
        "IVUG"
      ],
      "metadata": {
        "id": "64QQUPXnPYTC"
      }
    },
    {
      "cell_type": "code",
      "source": [
        "A=str(input())\n",
        "print(A[::-1])"
      ],
      "metadata": {
        "id": "cI69MDXKPdez"
      },
      "execution_count": null,
      "outputs": []
    },
    {
      "cell_type": "markdown",
      "source": [
        "**Q12.**Write a code to get an integer N and print the digits of the integer.\n",
        "\n",
        "Input Description:\n",
        "A single line contains an integer N.\n",
        "\n",
        "Output Description:\n",
        "Print the digits of the integer in a single line separated by space,\n",
        "\n",
        "Sample Input :\n",
        "348\n",
        "Sample Output :\n",
        "3 4 8"
      ],
      "metadata": {
        "id": "Hw0DA05_Ph-K"
      }
    },
    {
      "cell_type": "code",
      "source": [
        "N=(input())\n",
        "\n",
        "print(*N)"
      ],
      "metadata": {
        "id": "17yXHBOrPhHs"
      },
      "execution_count": null,
      "outputs": []
    },
    {
      "cell_type": "markdown",
      "source": [
        "**Q13.**Write a code to get an integer N and print the even values from 1 till N in a separate line.\n",
        "\n",
        "Input Description:\n",
        "A single line contains an integer N.\n",
        "\n",
        "Output Description:\n",
        "Print the even values from 1 to N in a separate line.\n",
        "\n",
        "Sample Input :\n",
        "6\n",
        "Sample Output :\n",
        "2\n",
        "4\n",
        "6"
      ],
      "metadata": {
        "id": "GkX6wSXAPoUy"
      }
    },
    {
      "cell_type": "code",
      "source": [
        "n=int(input())\n",
        "for i in range(2,n+1): \n",
        "    if i%2==0: \n",
        "       print(i)"
      ],
      "metadata": {
        "id": "R930Rbj1PrEi"
      },
      "execution_count": null,
      "outputs": []
    },
    {
      "cell_type": "markdown",
      "source": [
        "**Q14.**Write a code to get an integer N and print values from 1 till N in a separate line.\n",
        "\n",
        "Input Description:\n",
        "A single line contains an integer N.\n",
        "\n",
        "Output Description:\n",
        "Print the values from 1 to N in a separate line.\n",
        "\n",
        "Sample Input :\n",
        "5\n",
        "Sample Output :\n",
        "1\n",
        "2\n",
        "3\n",
        "4\n",
        "5"
      ],
      "metadata": {
        "id": "exMFRJwUPxQO"
      }
    },
    {
      "cell_type": "code",
      "source": [
        "a=int(input())\n",
        "i = 1\n",
        "while i <= a:\n",
        "  print(i)\n",
        "  if i == a:\n",
        "    break\n",
        "  i= i+1"
      ],
      "metadata": {
        "id": "Oob10DZpPz1z"
      },
      "execution_count": null,
      "outputs": []
    }
  ]
}