{
  "nbformat": 4,
  "nbformat_minor": 0,
  "metadata": {
    "colab": {
      "provenance": [],
      "authorship_tag": "ABX9TyNolcXETS4/iPChCH5GZjdP",
      "include_colab_link": true
    },
    "kernelspec": {
      "name": "python3",
      "display_name": "Python 3"
    },
    "language_info": {
      "name": "python"
    }
  },
  "cells": [
    {
      "cell_type": "markdown",
      "metadata": {
        "id": "view-in-github",
        "colab_type": "text"
      },
      "source": [
        "<a href=\"https://colab.research.google.com/github/Subashganesan00/CODEKATA/blob/main/Basics.ipynb\" target=\"_parent\"><img src=\"https://colab.research.google.com/assets/colab-badge.svg\" alt=\"Open In Colab\"/></a>"
      ]
    },
    {
      "cell_type": "code",
      "source": [
        "👋 Hi, I’m @Subashganesan00\n",
        "🌱 I’m currently learning Advanced Programming and Master Data Science\n",
        "📫 How to reach me subashganesan00@gmail.com , 9095450372"
      ],
      "metadata": {
        "id": "tCqtxk1zaexN"
      },
      "execution_count": null,
      "outputs": []
    },
    {
      "cell_type": "markdown",
      "metadata": {
        "id": "7oA8XJFXd3Lv"
      },
      "source": [
        "# **CODEKATA**"
      ]
    },
    {
      "cell_type": "markdown",
      "source": [
        "## **BASICS**"
      ],
      "metadata": {
        "id": "dxZsagBbLeI4"
      }
    },
    {
      "cell_type": "markdown",
      "source": [
        "**Q1.**Write a program to print the sum of the first K natural numbers.\n",
        "Input Size : n <= 100000\n",
        "Sample Testcase :\n",
        "INPUT\n",
        "3\n",
        "OUTPUT\n",
        "6"
      ],
      "metadata": {
        "id": "0ljPirjxLh8X"
      }
    },
    {
      "cell_type": "code",
      "source": [
        "a=int(input())\n",
        "sum=0\n",
        "for i in range(a+1):\n",
        "  sum=sum+i\n",
        "print(sum)"
      ],
      "metadata": {
        "id": "5Wl4apINLhEQ",
        "colab": {
          "base_uri": "https://localhost:8080/"
        },
        "outputId": "7d44e006-70ae-49be-f2e2-bfd0db6b241c"
      },
      "execution_count": null,
      "outputs": [
        {
          "output_type": "stream",
          "name": "stdout",
          "text": [
            "3\n",
            "6\n"
          ]
        }
      ]
    },
    {
      "cell_type": "markdown",
      "source": [
        "**Q2.**Write a code to get the input and print it 5 times.\n",
        "\n",
        "Input Description:\n",
        "A single line contains an integer N.\n",
        "\n",
        "Output Description:\n",
        "Output contains 5 lines with each line having the value N.\n",
        "\n",
        "Sample Input :\n",
        "4\n",
        "Sample Output :\n",
        "4\n",
        "4\n",
        "4\n",
        "4\n",
        "4"
      ],
      "metadata": {
        "id": "WicexIPSMpNW"
      }
    },
    {
      "cell_type": "code",
      "source": [
        "a=input()\n",
        "i=0\n",
        "while i<5:\n",
        "  print(a)\n",
        "  i=i+1"
      ],
      "metadata": {
        "colab": {
          "base_uri": "https://localhost:8080/"
        },
        "id": "M_fJEa-LMpmL",
        "outputId": "6bf0d122-1ffa-4afc-8224-61b03bb8007f"
      },
      "execution_count": null,
      "outputs": [
        {
          "output_type": "stream",
          "name": "stdout",
          "text": [
            "4\n",
            "4\n",
            "4\n",
            "4\n",
            "4\n",
            "4\n"
          ]
        }
      ]
    },
    {
      "cell_type": "markdown",
      "source": [
        "**Q3.**Given 3 numbers N , L and R. Print 'yes' if N is between L and R else print 'no'.\n",
        "Sample Testcase :\n",
        "INPUT\n",
        "3\n",
        "2 6\n",
        "OUTPUT\n",
        "yes"
      ],
      "metadata": {
        "id": "a-GpGXHIM8QX"
      }
    },
    {
      "cell_type": "code",
      "source": [
        "N=int(input())\n",
        "L,R=map(int,input().split())\n",
        "\n",
        "if N in range(L,R):\n",
        "  print('yes'),\n",
        "else:\n",
        "  print('no')"
      ],
      "metadata": {
        "colab": {
          "base_uri": "https://localhost:8080/"
        },
        "id": "L8mrwJvzM_sD",
        "outputId": "3cbd5f1b-1072-46a3-ee7f-d5be9648df2c"
      },
      "execution_count": null,
      "outputs": [
        {
          "output_type": "stream",
          "name": "stdout",
          "text": [
            "3\n",
            "2 6\n",
            "yes\n"
          ]
        }
      ]
    },
    {
      "cell_type": "markdown",
      "source": [
        "**Q4**.Given a number N, print 'yes' if it is composite else print 'no'.\n",
        "Sample Testcase :\n",
        "INPUT\n",
        "123\n",
        "OUTPUT\n",
        "yes"
      ],
      "metadata": {
        "id": "HrE5DoPdOuFm"
      }
    },
    {
      "cell_type": "code",
      "source": [
        "N=int(input())\n",
        "i=0\n",
        "for i in range(1,N):\n",
        "  if N%i==0:\n",
        "    factor=i\n",
        "if factor>1:\n",
        "  print ('yes')\n",
        "else:\n",
        "  print ('no')"
      ],
      "metadata": {
        "colab": {
          "base_uri": "https://localhost:8080/"
        },
        "id": "qQyY6tOCOssO",
        "outputId": "659695af-8c6b-4b40-d02c-89640ade4b12"
      },
      "execution_count": null,
      "outputs": [
        {
          "output_type": "stream",
          "name": "stdout",
          "text": [
            "123\n",
            "yes\n"
          ]
        }
      ]
    },
    {
      "cell_type": "markdown",
      "source": [
        "**Q5**Given numbers A,B find A^B.\n",
        "Input Size : 1 <= A <= 5 <= B <= 50\n",
        "Sample Testcase :\n",
        "INPUT\n",
        "3 4\n",
        "OUTPUT\n",
        "81"
      ],
      "metadata": {
        "id": "3PQxApsiGn8B"
      }
    },
    {
      "cell_type": "code",
      "source": [
        "A,B=map(int,input().split(\" \"))\n",
        "c=(A**B)\n",
        "print(c)"
      ],
      "metadata": {
        "colab": {
          "base_uri": "https://localhost:8080/"
        },
        "id": "r5x5e8oaGnmg",
        "outputId": "e6f1b3dc-e766-49d9-c7f7-e59c9ffff5bb"
      },
      "execution_count": null,
      "outputs": [
        {
          "output_type": "stream",
          "name": "stdout",
          "text": [
            "3 4\n",
            "81\n"
          ]
        }
      ]
    },
    {
      "cell_type": "markdown",
      "source": [
        "**Q6.**Given 2 numbers N,M. Print 'yes' if their product is a perfect square else print 'no'.\n",
        "Sample Testcase :\n",
        "INPUT\n",
        "5 5\n",
        "OUTPUT\n",
        "yes"
      ],
      "metadata": {
        "id": "Iuw3kBcPHeR0"
      }
    },
    {
      "cell_type": "code",
      "source": [
        "import math\n",
        "\n",
        "N,M=map(int,input().split(\" \"))\n",
        "\n",
        "root=N*M\n",
        "if (root**0.5)==N:\n",
        "    print(\"yes\")\n",
        "else:\n",
        "    print(\"no\")"
      ],
      "metadata": {
        "colab": {
          "base_uri": "https://localhost:8080/"
        },
        "id": "ihWltpy0Hit0",
        "outputId": "54dcbc87-a916-4375-9b00-59989e38a275"
      },
      "execution_count": null,
      "outputs": [
        {
          "output_type": "stream",
          "name": "stdout",
          "text": [
            "5 5\n",
            "yes\n"
          ]
        }
      ]
    },
    {
      "cell_type": "markdown",
      "source": [
        "**Q7.**Write a code to get an integer N and print values from 1 till N in a separate line.\n",
        "\n",
        "Input Description:\n",
        "A single line contains an integer N.\n",
        "\n",
        "Output Description:\n",
        "Print the values from 1 to N in a separate line.\n",
        "\n",
        "Sample Input :\n",
        "5\n",
        "Sample Output :\n",
        "1\n",
        "2\n",
        "3\n",
        "4\n",
        "5"
      ],
      "metadata": {
        "id": "xsTZkVerWIi0"
      }
    },
    {
      "cell_type": "code",
      "source": [
        "a=int(input())\n",
        "i = 1\n",
        "while i <= a:\n",
        "  print(i)\n",
        "  if i == a:\n",
        "    break\n",
        "  i= i+1"
      ],
      "metadata": {
        "id": "6TcbQaU9WO-P"
      },
      "execution_count": null,
      "outputs": []
    },
    {
      "cell_type": "markdown",
      "source": [
        "**Q8.**Given 2 numbers N and M add both the numbers and check whether the sum is odd or even.\n",
        "Sample Testcase :\n",
        "INPUT\n",
        "9 2\n",
        "OUTPUT\n",
        "odd"
      ],
      "metadata": {
        "id": "N6xOE1GxKUL-"
      }
    },
    {
      "cell_type": "code",
      "source": [
        "N,M=map(int,input().split(\" \"))\n",
        "\n",
        "sum=(M+N)\n",
        "\n",
        "if (sum%2)==0:\n",
        "  print('even')\n",
        "else:\n",
        "  print('odd')"
      ],
      "metadata": {
        "colab": {
          "base_uri": "https://localhost:8080/"
        },
        "id": "d1CNkyffKZIV",
        "outputId": "7d23009c-ff47-4dd6-8dff-6eb6da4f06f5"
      },
      "execution_count": null,
      "outputs": [
        {
          "output_type": "stream",
          "name": "stdout",
          "text": [
            "9 2\n",
            "odd\n"
          ]
        }
      ]
    },
    {
      "cell_type": "markdown",
      "source": [
        "**Q9.**Write a code to get an integer N and print the sum of  values from 1 to N.\n",
        "\n",
        "Input Description:\n",
        "A single line contains an integer N.\n",
        "\n",
        "Output Description:\n",
        "Print the sum of values from 1 to N.\n",
        "\n",
        "Sample Input :\n",
        "10\n",
        "Sample Output :\n",
        "55"
      ],
      "metadata": {
        "id": "6jJJOTwlWZxL"
      }
    },
    {
      "cell_type": "code",
      "source": [
        "n=int(input())\n",
        "\n",
        "print(int(n*(n+1)/2))\n"
      ],
      "metadata": {
        "id": "Yt_4V36tWdQa"
      },
      "execution_count": null,
      "outputs": []
    },
    {
      "cell_type": "markdown",
      "source": [
        "**Q10**.Given base(B) and height(H) of a triangle find its area.\n",
        "Input Size : N <= 1000000\n",
        "Sample Testcase :\n",
        "INPUT\n",
        "2 4\n",
        "OUTPUT\n",
        "4"
      ],
      "metadata": {
        "id": "yemTlOm5KYMP"
      }
    },
    {
      "cell_type": "code",
      "source": [
        "B,H=map(int,input().split(\" \"))\n",
        "triangle=((1/2)*(B*H))\n",
        "\n",
        "print(round(triangle,1))"
      ],
      "metadata": {
        "colab": {
          "base_uri": "https://localhost:8080/"
        },
        "id": "8A1cI7p-Lj1W",
        "outputId": "08ddc9f0-ba58-4deb-e36d-4feec713a85c"
      },
      "execution_count": null,
      "outputs": [
        {
          "output_type": "stream",
          "name": "stdout",
          "text": [
            "3 3\n",
            "4.5\n"
          ]
        }
      ]
    },
    {
      "cell_type": "markdown",
      "source": [
        "**Q11.**Write a code to get 2 integers A and N. Print the integer A, N times in separate line.\n",
        "\n",
        "Input Description:\n",
        "First line contains an integer A. Second line contains an Integer N.\n",
        "\n",
        "Output Description:\n",
        "Print the integer A, N times in a separate line.\n",
        "\n",
        "Sample Input :\n",
        "2 3\n",
        "Sample Output :\n",
        "2\n",
        "2\n",
        "2"
      ],
      "metadata": {
        "id": "KteIELJ5WiGT"
      }
    },
    {
      "cell_type": "code",
      "source": [
        "A,N=map(int, input().split())\n",
        "i=0\n",
        "while i<N:\n",
        "  print(A)\n",
        "  i=i+1\n"
      ],
      "metadata": {
        "id": "JEk2ebCWWl9T"
      },
      "execution_count": null,
      "outputs": []
    },
    {
      "cell_type": "markdown",
      "source": [
        "**Q12.**Given a number N and an array of N elements ,find the Bitwise AND of the array elements.\n",
        "Input Size N <= 100000\n",
        "Sample Testcase :\n",
        "INPUT\n",
        "4\n",
        "4 3 2 1\n",
        "OUTPUT\n",
        "0"
      ],
      "metadata": {
        "id": "MwNSK86eWoF-"
      }
    },
    {
      "cell_type": "code",
      "source": [
        "n=int(input())\n",
        "l=list(map(int,input().split()))\n",
        "sum=l[0]\n",
        "for i in range(1,n):\n",
        "  sum = (sum & int(l[i]))\n",
        "print(sum)\n"
      ],
      "metadata": {
        "id": "xBqlmFYVWtTi"
      },
      "execution_count": null,
      "outputs": []
    },
    {
      "cell_type": "markdown",
      "source": [
        "**Q13.**Given 2 numbers N and K followed by elements of N .Print 'yes' if K exists else print 'no'.\n",
        "Sample Testcase :\n",
        "INPUT\n",
        "4 2\n",
        "1 2 3 3\n",
        "OUTPUT\n",
        "yes"
      ],
      "metadata": {
        "id": "UNrH-S8cOpXs"
      }
    },
    {
      "cell_type": "code",
      "source": [
        "N,K=map(int,input().split(\" \"))\n",
        "L=list(map(int,input().split(\" \")))\n",
        "\n",
        "if K in L:\n",
        "  print(\"yes\")\n",
        "else:\n",
        "  print(\"no\")"
      ],
      "metadata": {
        "id": "n7lb40DROtfq"
      },
      "execution_count": null,
      "outputs": []
    },
    {
      "cell_type": "markdown",
      "source": [
        "**Q14.**Given a range of 2 numbers (i.e) L and R count the number of prime numbers in the range (inclusive of L and R ).\n",
        "Input Size : L <= R <= 100000(complexity O(n) read about Sieve of Eratosthenes)\n",
        "Sample Testcase :\n",
        "INPUT\n",
        "2 5\n",
        "OUTPUT\n",
        "3"
      ],
      "metadata": {
        "id": "-oaVRcQWQVjD"
      }
    },
    {
      "cell_type": "code",
      "source": [
        "L,R=map(int,input().split(\" \"))\n",
        "i=0\n",
        "a=[]\n",
        "for i in range(L,R+1):\n",
        "    if (i%2)!=0:\n",
        "        a.append(i)\n",
        "print(a)\n"
      ],
      "metadata": {
        "id": "mwGiDPiVZQKY"
      },
      "execution_count": null,
      "outputs": []
    },
    {
      "cell_type": "markdown",
      "source": [
        "**Q15.**Given 3 numbers A,B,C process and print 'yes' if they can form the sides of a triangle otherwise print 'no'.\n",
        "Input Size : A,B,C <= 100000\n",
        "Sample Testcase :\n",
        "INPUT\n",
        "3 4 5\n",
        "OUTPUT\n",
        "yes"
      ],
      "metadata": {
        "id": "Zz3W7GpVW6HX"
      }
    },
    {
      "cell_type": "code",
      "source": [
        "a,b,c=map(int,input().split())\n",
        "\n",
        "if a+b>c and b+c>a and c+a>b:\n",
        "    print(\"yes\")\n",
        "else:\n",
        "    print(\"no\")"
      ],
      "metadata": {
        "id": "TW5BWGpeW-Eq"
      },
      "execution_count": null,
      "outputs": []
    },
    {
      "cell_type": "markdown",
      "source": [
        "**Q16.**Write a code to get an integer N and print the values from N to 1.\n",
        "\n",
        "Input Description:\n",
        "A single line contains an integer N.\n",
        "\n",
        "Output Description:\n",
        "Print the values from N to 1 in a separate line.\n",
        "\n",
        "Sample Input :\n",
        "10\n",
        "Sample Output :\n",
        "10\n",
        "9\n",
        "8\n",
        "7\n",
        "6\n",
        "5\n",
        "4\n",
        "3\n",
        "2\n",
        "1"
      ],
      "metadata": {
        "id": "NFAlcU1AXAOZ"
      }
    },
    {
      "cell_type": "code",
      "source": [
        "N=int(input())\n",
        "\n",
        "for i in range(N,0,-1):\n",
        "  print(i)\n",
        "  "
      ],
      "metadata": {
        "id": "SJUBzHSoXTPU"
      },
      "execution_count": null,
      "outputs": []
    },
    {
      "cell_type": "markdown",
      "source": [
        "**Q17.**Given an array of N elements switch(swap) the element with the adjacent element and print the output.\n",
        "Sample Testcase :\n",
        "INPUT\n",
        "5\n",
        "3 2 1 2 3\n",
        "OUTPUT\n",
        "2 3 2 1 3"
      ],
      "metadata": {
        "id": "qj1DG5qTXYSo"
      }
    },
    {
      "cell_type": "code",
      "source": [],
      "metadata": {
        "id": "XTwMsoavXfuQ"
      },
      "execution_count": null,
      "outputs": []
    },
    {
      "cell_type": "markdown",
      "source": [
        "**Q18.**Write a code to get a integer n as input and calculate the smallest perfect power of 2 greater than n.\n",
        "\n",
        "Input Description:\n",
        "A single line containing an integer,n.\n",
        "\n",
        "Output Description:\n",
        "Print the smallest perfect power of 2 greater than n.\n",
        "\n",
        "Sample Input :\n",
        "48\n",
        "Sample Output :\n",
        "64"
      ],
      "metadata": {
        "id": "ciTQMw8MXeg7"
      }
    },
    {
      "cell_type": "code",
      "source": [
        "s=int(input())\n",
        "n=2\n",
        "d=[]\n",
        "for i in range(20):\n",
        "    n=n*2\n",
        "    d.append(n)\n",
        "for i in d:\n",
        "    if i>s:\n",
        "        print(i)\n",
        "        break"
      ],
      "metadata": {
        "id": "DUT1s54pXl05"
      },
      "execution_count": null,
      "outputs": []
    },
    {
      "cell_type": "markdown",
      "source": [
        "**Q19.**Write a code to get an integer N and print the digits of the integer.\n",
        "\n",
        "Input Description:\n",
        "A single line contains an integer N.\n",
        "\n",
        "Output Description:\n",
        "Print the digits of the integer in a single line separated by space,\n",
        "\n",
        "Sample Input :\n",
        "348\n",
        "Sample Output :\n",
        "3 4 8"
      ],
      "metadata": {
        "id": "wBdvleQNXlQ2"
      }
    },
    {
      "cell_type": "code",
      "source": [
        "N=(input())\n",
        "\n",
        "print(*N)"
      ],
      "metadata": {
        "id": "qxwF_YtaXtBa"
      },
      "execution_count": null,
      "outputs": []
    },
    {
      "cell_type": "markdown",
      "source": [
        "**Q20.**Find the minimum among 10 numbers.\n",
        "Sample Testcase :\n",
        "INPUT\n",
        "5 4 3 2 1 7 6 10 8 9\n",
        "OUTPUT\n",
        "1"
      ],
      "metadata": {
        "id": "NcSNceyIXuw4"
      }
    },
    {
      "cell_type": "code",
      "source": [
        "a=map(int,input().split())\n",
        "print(min(a))"
      ],
      "metadata": {
        "id": "FHJDaqOHX0RC"
      },
      "execution_count": null,
      "outputs": []
    },
    {
      "cell_type": "markdown",
      "source": [
        "**Q21**.Given 2 numbers N and K followed by N elements,print the number of repetition of K otherwise print '-1' if the element not found.\n",
        "Sample Testcase :\n",
        "INPUT\n",
        "6 2\n",
        "1 2 3 5 7 8\n",
        "OUTPUT\n",
        "0\n",
        "\n"
      ],
      "metadata": {
        "id": "ZSf-f9D_X3du"
      }
    },
    {
      "cell_type": "code",
      "source": [
        "b,k = map(int,input().split())\n",
        "n = list(map(int,input().split()))\n",
        "flag = 0\n",
        "if k in n:\n",
        "    flag += 1\n",
        "    if flag > 1:\n",
        "        print(flag)\n",
        "    else:\n",
        "        print(0)\n",
        "else:\n",
        "    print(-1)"
      ],
      "metadata": {
        "id": "dAq73IYCX7yO"
      },
      "execution_count": null,
      "outputs": []
    },
    {
      "cell_type": "markdown",
      "source": [
        "**Q22**.Write a code to get 2 integers as input and find the HCF of the 2 integer without using recursion or Euclidean algorithm.\n",
        "\n",
        "Input Description:\n",
        "A single line containing 2 integers separated by space.\n",
        "\n",
        "Output Description:\n",
        "Print the HCF of the integers.\n",
        "\n",
        "Sample Input :\n",
        "2 3\n",
        "Sample Output :\n",
        "1"
      ],
      "metadata": {
        "id": "xkQOhFwXX-UL"
      }
    },
    {
      "cell_type": "code",
      "source": [
        "import math\n",
        "x,y = map(int,input().split(\" \"))\n",
        "print(math.gcd(x,y))"
      ],
      "metadata": {
        "id": "bvX0y5PCYDCo"
      },
      "execution_count": null,
      "outputs": []
    },
    {
      "cell_type": "markdown",
      "source": [
        "**Q23.**Given 3 numbers A,B,C print 'yes' if they can form the sides of a right angled triangle,otherwise 'no'.\n",
        "Input Size : A,B,C <= 100000\n",
        "Sample Testcase :\n",
        "INPUT\n",
        "3 4 5\n",
        "OUTPUT\n",
        "yes"
      ],
      "metadata": {
        "id": "xzIQ3N9uYFxH"
      }
    },
    {
      "cell_type": "code",
      "source": [
        "a,b,c=map(int,input().split())\n",
        "\n",
        "if a+b>c and b+c>a and c+a>b:\n",
        "    print(\"yes\")\n",
        "else:\n",
        "    print(\"no\")"
      ],
      "metadata": {
        "id": "It_Ad5WOYRHB"
      },
      "execution_count": null,
      "outputs": []
    },
    {
      "cell_type": "markdown",
      "source": [
        "**Q24.**Write a code to get 2 integers as input and add the integers without any carry.\n",
        "\n",
        "Input Description:\n",
        "A single line containing 2 integers.\n",
        "\n",
        "Output Description:\n",
        "Print sum of the 2 integers without carry\n",
        "\n",
        "Sample Input :\n",
        "44 66\n",
        "Sample Output :\n",
        "0"
      ],
      "metadata": {
        "id": "X9-3Y8GcYS4d"
      }
    },
    {
      "cell_type": "code",
      "source": [
        "A = str(a)\n",
        "B = str(b)\n",
        "\n",
        "if c < 110 and ( len(d) > len(A) or len(d) > len(B)) :\n",
        "    print(d[-1])\n",
        "    \n",
        "elif c > 110 :\n",
        "    print((c - 100)/2)\n",
        "    \n",
        "else:\n",
        "    print(c)"
      ],
      "metadata": {
        "id": "KQGPt2yfYX0a"
      },
      "execution_count": null,
      "outputs": []
    },
    {
      "cell_type": "markdown",
      "source": [
        "**Q25.**Write a code get an integer number as input and print the sum of the digits.\n",
        "\n",
        "Input Description:\n",
        "A single line containing an integer.\n",
        "\n",
        "Output Description:\n",
        "Print the sum of the digits of the integer.\n",
        "\n",
        "Sample Input :\n",
        "124\n",
        "Sample Output :\n",
        "7"
      ],
      "metadata": {
        "id": "hgV-Bi0CYZ58"
      }
    },
    {
      "cell_type": "code",
      "source": [
        "n=int(input())\n",
        "sum=0\n",
        "while(n>0):\n",
        "    dig=n%10\n",
        "    sum=sum+dig\n",
        "    n=n//10\n",
        "print(sum)"
      ],
      "metadata": {
        "id": "W_d2huNjYfFl"
      },
      "execution_count": null,
      "outputs": []
    },
    {
      "cell_type": "markdown",
      "source": [
        "**Q26.**Given a number N and an array of N elements, find the Bitwise OR of the array elements.\n",
        "Input Size : N <= 100000\n",
        "Sample Testcase :\n",
        "INPUT\n",
        "2\n",
        "2 4\n",
        "OUTPUT\n",
        "6"
      ],
      "metadata": {
        "id": "xqBOQcM2Yg3A"
      }
    },
    {
      "cell_type": "code",
      "source": [
        "n=int(input())\n",
        "l=list(map(int,input().split()))\n",
        "sum=l[0]\n",
        "for i in range(1,n):\n",
        "  sum = (sum | int(l[i]))\n",
        "print(sum)\n"
      ],
      "metadata": {
        "id": "5FO3bU6-Yliu"
      },
      "execution_count": null,
      "outputs": []
    },
    {
      "cell_type": "markdown",
      "source": [
        "**Q27.**Given a number N followed by N numbers.Find the smallest number and largest number and print both the indices(1 based indexing).\n",
        "Input Size : N <= 100000\n",
        "Sample Testcase :\n",
        "INPUT\n",
        "5\n",
        "1 2 3 4 5\n",
        "OUTPUT\n",
        "1 5\n"
      ],
      "metadata": {
        "id": "sOk4ArmMYnl1"
      }
    },
    {
      "cell_type": "code",
      "source": [
        "n = int(input())\n",
        "l =list(map(int, input().split()))\n",
        "c=[]\n",
        "a=c.append(l.index(min(l)))\n",
        "b=c.append(l.index(max(l)))\n",
        "d=[]\n",
        "i=0\n",
        "for i in c:\n",
        "  d.append(i+1)\n",
        "\n",
        "print(*d)"
      ],
      "metadata": {
        "id": "R-TOGFBaYu_k"
      },
      "execution_count": null,
      "outputs": []
    },
    {
      "cell_type": "markdown",
      "source": [
        "**Q28.**Given a number N, print the Bitwise NOT of that number.\n",
        "Input Size : 1 <= N <= 10000\n",
        "Sample Testcase :\n",
        "INPUT\n",
        "5\n",
        "OUTPUT\n",
        "-6"
      ],
      "metadata": {
        "id": "3X8X2zzCYxt-"
      }
    },
    {
      "cell_type": "code",
      "source": [],
      "metadata": {
        "id": "aGMBkdZvYxFC"
      },
      "execution_count": null,
      "outputs": []
    },
    {
      "cell_type": "markdown",
      "source": [
        "**Q29.**Given 3 numbers A,B,C print 'yes' if they can form the sides of a scalene triangle else print 'no'.\n",
        "Input Size : A,B,C <= 100000\n",
        "Sample Testcase :\n",
        "INPUT\n",
        "3 4 5\n",
        "OUTPUT\n",
        "yes"
      ],
      "metadata": {
        "id": "Cd8QxgJBY2fH"
      }
    },
    {
      "cell_type": "code",
      "source": [
        "a,b,c=(map(int,input().split()))\n",
        "\n",
        "if a==b or b==c or c==a:\n",
        "  print(\"no\")\n",
        "else:\n",
        "  print(\"yes\")"
      ],
      "metadata": {
        "id": "pBOjj5YaY7_M"
      },
      "execution_count": null,
      "outputs": []
    },
    {
      "cell_type": "markdown",
      "source": [
        "**Q30.**Kabali is a brave warrior who with his group of young ninjas moves from one place to another to fight against his opponents. Before Fighting he just calculates one thing, the difference between his ninja number and the opponent's ninja number. From this difference he decides whether to fight or not. Kabali's ninja number is never greater than his opponent.\n",
        "Input\n",
        "The input contains two numbers in every line. These two numbers in each line denotes the number ninjas in Kabali's clan and his opponent's clan . print the absolute difference of number of ninjas between Kabali's clan and his opponent's clan. Each output should be in seperate line.\n",
        "Sample Testcase :\n",
        "INPUT\n",
        "100 200\n",
        "OUTPUT\n",
        "100"
      ],
      "metadata": {
        "id": "ycl4N-eKY9Zb"
      }
    },
    {
      "cell_type": "code",
      "source": [
        "a,b=(map(int, input().split()))\n",
        "\n",
        "c=(b-a)\n",
        "\n",
        "print(c)"
      ],
      "metadata": {
        "id": "ZoPybGzFZArg"
      },
      "execution_count": null,
      "outputs": []
    },
    {
      "cell_type": "markdown",
      "source": [
        "**Q31.**Given a string S consisting of 2 words reverse the order of two words .\n",
        "Input Size : |S| <= 10000000\n",
        "Sample Testcase :\n",
        "INPUT\n",
        "hello world\n",
        "OUTPUT\n",
        "world hello"
      ],
      "metadata": {
        "id": "O1FapusfZCr6"
      }
    },
    {
      "cell_type": "code",
      "source": [
        "a=input().split(\" \")\n",
        "\n",
        "b=(a[::-1])\n",
        "print(*b)\n"
      ],
      "metadata": {
        "id": "g340YA05ZIZQ"
      },
      "execution_count": null,
      "outputs": []
    },
    {
      "cell_type": "markdown",
      "source": [
        "**Q32.**Check whether the given 4 points form a square or not.\n",
        "Example:\n",
        "INPUT\n",
        "10 10\n",
        "10 20\n",
        "20 20\n",
        "20 10\n",
        "OUTPUT\n",
        "yes"
      ],
      "metadata": {
        "id": "h-xv0ZNmZK22"
      }
    },
    {
      "cell_type": "code",
      "source": [],
      "metadata": {
        "id": "xSU842aEZO6E"
      },
      "execution_count": null,
      "outputs": []
    },
    {
      "cell_type": "markdown",
      "source": [
        "**Q33.**Given a list of N coins, their values (V1, V2, … , VN), and the total sum S. Find the minimum number of coins the sum of which is S (we can use as many coins of one type as we want), if it is not possible to select coins in such a way that they sum up to S then print '-1'.\n",
        "Example: Given coins with values 1, 3, and 5. And the sum S is 11.\n",
        "Output: 3, 2 coins of 3 and 1 coin of 5\n",
        "Input Size : N<=10000\n",
        "Example:\n",
        "INPUT\n",
        "3 11\n",
        "1 3 5\n",
        "OUTPUT\n",
        "3"
      ],
      "metadata": {
        "id": "xBRWUteaZPZ4"
      }
    },
    {
      "cell_type": "code",
      "source": [],
      "metadata": {
        "id": "DOaVMNHRZT8I"
      },
      "execution_count": null,
      "outputs": []
    },
    {
      "cell_type": "markdown",
      "source": [
        "**Q34.**Write a program to get a string as input and reverse the string without using temporary variable.\n",
        "\n",
        "Input Description:\n",
        "A single line containing a string.\n",
        "\n",
        "Output Description:\n",
        "Print the reversed string.\n",
        "\n",
        "Sample Input :\n",
        "GUVI\n",
        "Sample Output :\n",
        "IVUG"
      ],
      "metadata": {
        "id": "3Rftq2hfZUwO"
      }
    },
    {
      "cell_type": "code",
      "source": [
        "A=str(input())\n",
        "print(A[::-1])"
      ],
      "metadata": {
        "id": "RFdDpxxQZZEg"
      },
      "execution_count": null,
      "outputs": []
    },
    {
      "cell_type": "markdown",
      "source": [
        "**Q35.**The Romans have attacked again. This time they are much more than the Persians but Shapur is ready to defeat them. He says: 'A lion is never afraid of a hundred sheep'.\n",
        "\n",
        "Nevertheless Shapur has to find weaknesses in the Roman army to defeat them. So he gives the army a weakness number.\n",
        "\n",
        "In Shapur's opinion the weakness of an army is equal to the number of triplets i, j, k such that i < j < k and ai > aj > ak where ax is the power of man standing at position x. The Roman army has one special trait — powers of all the people in it are distinct.\n",
        "\n",
        "Help Shapur find out how weak the Romans are.\n",
        "\n",
        "The first line of input contains a single number n, the number of men in Roman army. Next line contains n different positive integers powers of men in the Roman army.\n",
        "Input Size : N<=100000\n",
        "Example:\n",
        "INPUT\n",
        "3\n",
        "3 2 1\n",
        "OUTPUT\n",
        "1"
      ],
      "metadata": {
        "id": "oLBvQhMvZbKL"
      }
    },
    {
      "cell_type": "code",
      "source": [],
      "metadata": {
        "id": "Iu5Uu1lIZirE"
      },
      "execution_count": null,
      "outputs": []
    },
    {
      "cell_type": "markdown",
      "source": [
        "**Q36.**Write a code to get an integer N and print the even values from 1 till N in a separate line.\n",
        "\n",
        "Input Description:\n",
        "A single line contains an integer N.\n",
        "\n",
        "Output Description:\n",
        "Print the even values from 1 to N in a separate line.\n",
        "\n",
        "Sample Input :\n",
        "6\n",
        "Sample Output :\n",
        "2\n",
        "4\n",
        "6"
      ],
      "metadata": {
        "id": "7HIWouo8Zj1q"
      }
    },
    {
      "cell_type": "code",
      "source": [
        "n=int(input())\n",
        "for i in range(2,n+1): \n",
        "    if i%2==0: \n",
        "       print(i)"
      ],
      "metadata": {
        "id": "ilubgjbPZo1P"
      },
      "execution_count": null,
      "outputs": []
    },
    {
      "cell_type": "markdown",
      "source": [
        "**Q37.**Let P represent Paper, R represent Rock and S represent Scissors. Given 2 out of the 3 determine which one wins. If its a draw print 'D'.\n",
        "Sample Testcase :\n",
        "INPUT\n",
        "R P\n",
        "OUTPUT\n",
        "P"
      ],
      "metadata": {
        "id": "FoLf1nz7Zq0I"
      }
    },
    {
      "cell_type": "code",
      "source": [],
      "metadata": {
        "id": "YL7Vb5XSZwBA"
      },
      "execution_count": null,
      "outputs": []
    },
    {
      "cell_type": "markdown",
      "source": [
        "**Q38.**Write a code get an integer number as input and print the odd and even digits of the number separately.\n",
        "\n",
        "Input Description:\n",
        "A single line containing an integer.\n",
        "\n",
        "Output Description:\n",
        "Print the even and odd integers of the integer in a separate line.\n",
        "\n",
        "Sample Input :\n",
        "1234\n",
        "Sample Output :\n",
        "2 4\n",
        "1 3"
      ],
      "metadata": {
        "id": "Fza89dVXZwda"
      }
    },
    {
      "cell_type": "code",
      "source": [
        "n = input()\n",
        "even = []\n",
        "odd = []\n",
        "\n",
        "def function(n):\n",
        "    for i in n:\n",
        "        if int(i) % 2 == 0:\n",
        "            even.append(i)\n",
        "        else:\n",
        "            odd.append(i)\n",
        "    even.sort()\n",
        "    odd.sort()\n",
        "    print(*even)\n",
        "    print(*odd)\n",
        "    \n",
        "function(n)"
      ],
      "metadata": {
        "id": "9VUvewjdZ2ro"
      },
      "execution_count": null,
      "outputs": []
    },
    {
      "cell_type": "markdown",
      "source": [
        "**Q39**.Given 2 numbers N,M find the GCD of N and M.If it cannot be found for given number(s) then print -1\n",
        "Sample Testcase :\n",
        "INPUT\n",
        "10 5\n",
        "OUTPUT\n",
        "5"
      ],
      "metadata": {
        "id": "f5XecKLz0hsB"
      }
    },
    {
      "cell_type": "code",
      "source": [
        "import math\n",
        "M,N=map(int,input().split(\" \"))\n",
        "a=math.gcd(M,N)\n",
        "\n",
        "if M>0 and N>0:\n",
        "  print(a)\n",
        "elif M==0 or N==0:\n",
        "  print(\"-1\")\n",
        "else:\n",
        "  print(\"1\")\n"
      ],
      "metadata": {
        "colab": {
          "base_uri": "https://localhost:8080/"
        },
        "id": "s0cWnOa_0g7G",
        "outputId": "0c1adc58-afcc-4f8a-bb77-ae2445629b4d"
      },
      "execution_count": 1,
      "outputs": [
        {
          "output_type": "stream",
          "name": "stdout",
          "text": [
            "10 15\n",
            "5\n"
          ]
        }
      ]
    },
    {
      "cell_type": "markdown",
      "source": [
        "**Q40.**The Caesar Cipher technique is one of the earliest and simplest method of encryption technique. It’s simply a type of substitution cipher, i.e., each letter of a given text is replaced by a letter some fixed number of positions down the alphabet. For example with a shift of 1, A would be replaced by B, B would become C, and so on. The method is apparently named after Julius Caesar, who apparently used it to communicate with his officials.For the given input string(S) and shift print the encrypted string.\n",
        "Sample Testcase :\n",
        "INPUT\n",
        "ABCdEFGHIJKLMNOPQRSTUVWXYz 23\n",
        "OUTPUT\n",
        "XYZaBCDEFGHIJKLMNOPQRSTUVw"
      ],
      "metadata": {
        "id": "6U_FwwG4aJ8r"
      }
    },
    {
      "cell_type": "code",
      "source": [],
      "metadata": {
        "id": "toE2NeBXaN03"
      },
      "execution_count": null,
      "outputs": []
    },
    {
      "cell_type": "markdown",
      "source": [
        "**Q41.**Given a string 'S' swap the even and odd characters starting from index 1(Assume the index starts from 0).\n",
        "Input Size : |s| <= 10000000(complexity O(n))\n",
        "Sample Testcase :\n",
        "INPUT\n",
        "codekata\n",
        "OUTPUT\n",
        "ocedakat"
      ],
      "metadata": {
        "id": "umrh8sjTaO5T"
      }
    },
    {
      "cell_type": "code",
      "source": [
        "s=input()\n",
        "t=list(s)\n",
        "t[::2],t[1::2]=t[1::2],t[::2]\n",
        "c=''.join(t)\n",
        "print(c)"
      ],
      "metadata": {
        "id": "VofQ54-maSnm"
      },
      "execution_count": null,
      "outputs": []
    }
  ]
}